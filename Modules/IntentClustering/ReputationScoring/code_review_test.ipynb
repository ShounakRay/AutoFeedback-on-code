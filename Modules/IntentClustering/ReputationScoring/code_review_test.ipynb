{
 "cells": [
  {
   "cell_type": "code",
   "execution_count": 2,
   "metadata": {},
   "outputs": [],
   "source": [
    "raw_clusters = {\n",
    "  \"intent1\": [\"ithinksw/philo_philo/models/fields/__init__.py_0\", \"ithinksw/philo_philo/models/fields/__init__.py_1\", \"ithinksw/philo_philo/models/fields/__init__.py_2\", \"ithinksw/philo_philo/models/fields/__init__.py_3\"],\n",
    "  \"intent2\": [\"nficano/python-lambda_aws_lambda/aws_lambda.py_3\", \"nficano/python-lambda_aws_lambda/aws_lambda.py_4\", \"nficano/python-lambda_aws_lambda/aws_lambda.py_5\", \"nficano/python-lambda_aws_lambda/aws_lambda.py_6\"] \n",
    "}\n",
    "\n",
    "\n",
    "\n",
    "classified_clusters = {\n",
    "    \"intent1\": ([\"ithinksw/philo_philo/models/fields/__init__.py_0\", \"ithinksw/philo_philo/models/fields/__init__.py_1\"], [\"ithinksw/philo_philo/models/fields/__init__.py_2\", \"ithinksw/philo_philo/models/fields/__init__.py_3\"]),\n",
    "    \"intent2\": ([\"nficano/python-lambda_aws_lambda/aws_lambda.py_3\", \"nficano/python-lambda_aws_lambda/aws_lambda.py_4\"], [\"nficano/python-lambda_aws_lambda/aws_lambda.py_5\", \"nficano/python-lambda_aws_lambda/aws_lambda.py_6\"])\n",
    "}\n",
    "\n",
    "code_reference = {\n",
    "    \"ithinksw/philo_philo/models/fields/__init__.py_0\": {\n",
    "      \"code\": \"def __init__(self, allow=None, disallow=None, secure=True, *args, **kwargs):\\n\\t\\tsuper(TemplateField, self).__init__(*args, **kwargs)\\n\\t\\tself.validators.append(TemplateValidator(allow, disallow, secure))\",\n",
    "      \"documentation\": \"Add TemplateValidator to the list of validators .\",\n",
    "      \"reputation\": {\n",
    "        \"num_stars\": 0,\n",
    "        \"num_forks\": 0,\n",
    "        \"num_watchers\": 0,\n",
    "        \"num_open_issues\": 0,\n",
    "        \"created_at\": 1677473915.0\n",
    "      }\n",
    "    },\n",
    "    \"ithinksw/philo_philo/models/fields/__init__.py_1\": {\n",
    "      \"code\": \"def __init__(self, field):\\n\\t\\tself.field = field\",\n",
    "      \"documentation\": \"Shortcut to set field to field\",\n",
    "      \"reputation\": {\n",
    "        \"num_stars\": 0,\n",
    "        \"num_forks\": 0,\n",
    "        \"num_watchers\": 0,\n",
    "        \"num_open_issues\": 0,\n",
    "        \"created_at\": 1677473915.0\n",
    "      }\n",
    "    },\n",
    "    \"ithinksw/philo_philo/models/fields/__init__.py_2\": {\n",
    "      \"code\": \"def __get__(self, instance, owner):\\n\\t\\tif instance is None:\\n\\t\\t\\traise AttributeError # ?\",\n",
    "      \"documentation\": \"Implement the default get method for the abstract method which raises AttributeError #\",\n",
    "      \"reputation\": {\n",
    "        \"num_stars\": 0,\n",
    "        \"num_forks\": 0,\n",
    "        \"num_watchers\": 0,\n",
    "        \"num_open_issues\": 0,\n",
    "        \"created_at\": 1677473915.0\n",
    "      }\n",
    "    },\n",
    "    \"ithinksw/philo_philo/models/fields/__init__.py_3\": {\n",
    "      \"code\": \"def __set__(self, instance, value):\\n\\t\\tinstance.__dict__[self.field.name] = value\\n\\t\\tsetattr(instance, self.field.attname, json.dumps(value))\",\n",
    "      \"documentation\": \"Set the value of the field on the instance\",\n",
    "      \"reputation\": {\n",
    "        \"num_stars\": 0,\n",
    "        \"num_forks\": 0,\n",
    "        \"num_watchers\": 0,\n",
    "        \"num_open_issues\": 0,\n",
    "        \"created_at\": 1677473915.0\n",
    "      }\n",
    "    },\n",
    "    \"nficano/python-lambda_aws_lambda/aws_lambda.py_3\": {\n",
    "      \"code\": \"def upload(\\n    src,\\n    requirements=None,\\n    local_package=None,\\n    config_file=\\\"config.yaml\\\",\\n    profile_name=None,\",\n",
    "      \"documentation\": \"Uploads a new project to PyPI using the specified requirements and local package name .\",\n",
    "      \"reputation\": {\n",
    "        \"num_stars\": 0,\n",
    "        \"num_forks\": 0,\n",
    "        \"num_watchers\": 0,\n",
    "        \"num_open_issues\": 0,\n",
    "        \"created_at\": 1677473915.0\n",
    "      }\n",
    "    },\n",
    "    \"nficano/python-lambda_aws_lambda/aws_lambda.py_4\": {\n",
    "      \"code\": \"def invoke(\\n    src,\\n    event_file=\\\"event.json\\\",\\n    config_file=\\\"config.yaml\\\",\\n    profile_name=None,\\n    verbose=False,\",\n",
    "      \"documentation\": \"Invoke the hook\",\n",
    "      \"reputation\": {\n",
    "        \"num_stars\": 0,\n",
    "        \"num_forks\": 0,\n",
    "        \"num_watchers\": 0,\n",
    "        \"num_open_issues\": 0,\n",
    "        \"created_at\": 1677473915.0\n",
    "      }\n",
    "    },\n",
    "    \"nficano/python-lambda_aws_lambda/aws_lambda.py_5\": {\n",
    "      \"code\": \"def init(src, minimal=False):\\n    \\\"\\\"\\\"Copies template files to a given directory.\\n\\n    :param str src:\\n        The path to output the template lambda project files.\\n    :param bool minimal:\\n        Minimal possible template files (excludes event.json).\\n    \\\"\\\"\\\"\\n\\n    templates_path = os.path.join(\\n        os.path.dirname(os.path.abspath(__file__)), \\\"project_templates\\\",\\n    )\\n    for filename in os.listdir(templates_path):\\n        if (minimal and filename == \\\"event.json\\\") or filename.endswith(\\\".pyc\\\"):\\n            continue\\n        dest_path = os.path.join(templates_path, filename)\\n\\n        if not os.path.isdir(dest_path):\\n            copy(dest_path, src)\",\n",
    "      \"documentation\": \"Copies template files to a given directory .\",\n",
    "      \"reputation\": {\n",
    "        \"num_stars\": 0,\n",
    "        \"num_forks\": 0,\n",
    "        \"num_watchers\": 0,\n",
    "        \"num_open_issues\": 0,\n",
    "        \"created_at\": 1677473915.0\n",
    "      }\n",
    "    },\n",
    "    \"nficano/python-lambda_aws_lambda/aws_lambda.py_6\": {\n",
    "      \"code\": \"def get_callable_handler_function(src, handler):\\n    \\\"\\\"\\\"Translate a string of the form \\\"module.function\\\" into a callable\\n    function.\\n\\n    :param str src:\\n      The path to your Lambda project containing a valid handler file.\\n    :param str handler:\\n      A dot delimited string representing the `<module>.<function name>`.\\n    \\\"\\\"\\\"\\n\\n    # \\\"cd\\\" into `src` directory.\\n    os.chdir(src)\\n\\n    module_name, function_name = handler.split(\\\".\\\")\\n    filename = get_handler_filename(handler)\\n\\n    path_to_module_file = os.path.join(src, filename)\\n    module = load_source(module_name, path_to_module_file)\\n    return getattr(module, function_name)\",\n",
    "      \"documentation\": \"Translate a string of the form module . function . into a callable function .\",\n",
    "      \"reputation\": {\n",
    "        \"num_stars\": 0,\n",
    "        \"num_forks\": 0,\n",
    "        \"num_watchers\": 0,\n",
    "        \"num_open_issues\": 0,\n",
    "        \"created_at\": 1677473915.0\n",
    "      }\n",
    "    },\n",
    "  }"
   ]
  },
  {
   "cell_type": "code",
   "execution_count": 4,
   "metadata": {},
   "outputs": [],
   "source": [
    "def compute_reputation_score(code_snippet):\n",
    "    features = code_snippet[\"reputation\"]\n",
    "    return features[\"num_stars\"] + features[\"num_forks\"] + features[\"num_watchers\"] - features[\"num_open_issues\"]"
   ]
  },
  {
   "cell_type": "code",
   "execution_count": 12,
   "metadata": {},
   "outputs": [],
   "source": [
    "from math import ceil, floor\n",
    "for intent_category in raw_clusters:\n",
    "    intents = raw_clusters[intent_category]\n",
    "    sorted_intents = sorted(intents, reverse=True, key = lambda intent: compute_reputation_score(code_reference[intent]))\n",
    "    classified_clusters[intent_category] = (sorted_intents[:ceil(len(intents) / 2)], sorted_intents[floor(len(intents) / 2):])"
   ]
  },
  {
   "cell_type": "code",
   "execution_count": 13,
   "metadata": {},
   "outputs": [
    {
     "name": "stdout",
     "output_type": "stream",
     "text": [
      "{'intent1': (['ithinksw/philo_philo/models/fields/__init__.py_0', 'ithinksw/philo_philo/models/fields/__init__.py_1'], ['ithinksw/philo_philo/models/fields/__init__.py_2', 'ithinksw/philo_philo/models/fields/__init__.py_3']), 'intent2': (['nficano/python-lambda_aws_lambda/aws_lambda.py_3', 'nficano/python-lambda_aws_lambda/aws_lambda.py_4'], ['nficano/python-lambda_aws_lambda/aws_lambda.py_5', 'nficano/python-lambda_aws_lambda/aws_lambda.py_6'])}\n"
     ]
    }
   ],
   "source": [
    "print(classified_clusters)"
   ]
  },
  {
   "cell_type": "code",
   "execution_count": null,
   "metadata": {},
   "outputs": [],
   "source": []
  }
 ],
 "metadata": {
  "kernelspec": {
   "display_name": "224n_final_proj",
   "language": "python",
   "name": "python3"
  },
  "language_info": {
   "codemirror_mode": {
    "name": "ipython",
    "version": 3
   },
   "file_extension": ".py",
   "mimetype": "text/x-python",
   "name": "python",
   "nbconvert_exporter": "python",
   "pygments_lexer": "ipython3",
   "version": "3.9.12"
  },
  "orig_nbformat": 4,
  "vscode": {
   "interpreter": {
    "hash": "2fc55353a1bb80ecd70b1e2768f9d432cf9eb903a27b85be7b0971feae070db5"
   }
  }
 },
 "nbformat": 4,
 "nbformat_minor": 2
}
